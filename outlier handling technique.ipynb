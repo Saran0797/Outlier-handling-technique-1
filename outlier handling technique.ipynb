{
 "cells": [
  {
   "cell_type": "code",
   "execution_count": 1,
   "id": "2affc117",
   "metadata": {},
   "outputs": [],
   "source": [
    "import pandas as pd\n",
    "import numpy as np\n",
    "import seaborn as sns\n",
    "import matplotlib.pyplot as plt\n",
    "%matplotlib inline"
   ]
  },
  {
   "cell_type": "code",
   "execution_count": 2,
   "id": "922900f9",
   "metadata": {},
   "outputs": [],
   "source": [
    "data = pd.read_csv('titanic.csv')"
   ]
  },
  {
   "cell_type": "code",
   "execution_count": 3,
   "id": "87c35b5b",
   "metadata": {},
   "outputs": [
    {
     "data": {
      "text/html": [
       "<div>\n",
       "<style scoped>\n",
       "    .dataframe tbody tr th:only-of-type {\n",
       "        vertical-align: middle;\n",
       "    }\n",
       "\n",
       "    .dataframe tbody tr th {\n",
       "        vertical-align: top;\n",
       "    }\n",
       "\n",
       "    .dataframe thead th {\n",
       "        text-align: right;\n",
       "    }\n",
       "</style>\n",
       "<table border=\"1\" class=\"dataframe\">\n",
       "  <thead>\n",
       "    <tr style=\"text-align: right;\">\n",
       "      <th></th>\n",
       "      <th>PassengerId</th>\n",
       "      <th>Survived</th>\n",
       "      <th>Pclass</th>\n",
       "      <th>Name</th>\n",
       "      <th>Sex</th>\n",
       "      <th>Age</th>\n",
       "      <th>SibSp</th>\n",
       "      <th>Parch</th>\n",
       "      <th>Ticket</th>\n",
       "      <th>Fare</th>\n",
       "      <th>Cabin</th>\n",
       "      <th>Embarked</th>\n",
       "    </tr>\n",
       "  </thead>\n",
       "  <tbody>\n",
       "    <tr>\n",
       "      <th>0</th>\n",
       "      <td>1</td>\n",
       "      <td>0</td>\n",
       "      <td>3</td>\n",
       "      <td>Braund, Mr. Owen Harris</td>\n",
       "      <td>male</td>\n",
       "      <td>22.0</td>\n",
       "      <td>1</td>\n",
       "      <td>0</td>\n",
       "      <td>A/5 21171</td>\n",
       "      <td>7.2500</td>\n",
       "      <td>NaN</td>\n",
       "      <td>S</td>\n",
       "    </tr>\n",
       "    <tr>\n",
       "      <th>1</th>\n",
       "      <td>2</td>\n",
       "      <td>1</td>\n",
       "      <td>1</td>\n",
       "      <td>Cumings, Mrs. John Bradley (Florence Briggs Th...</td>\n",
       "      <td>female</td>\n",
       "      <td>38.0</td>\n",
       "      <td>1</td>\n",
       "      <td>0</td>\n",
       "      <td>PC 17599</td>\n",
       "      <td>71.2833</td>\n",
       "      <td>C85</td>\n",
       "      <td>C</td>\n",
       "    </tr>\n",
       "    <tr>\n",
       "      <th>2</th>\n",
       "      <td>3</td>\n",
       "      <td>1</td>\n",
       "      <td>3</td>\n",
       "      <td>Heikkinen, Miss. Laina</td>\n",
       "      <td>female</td>\n",
       "      <td>26.0</td>\n",
       "      <td>0</td>\n",
       "      <td>0</td>\n",
       "      <td>STON/O2. 3101282</td>\n",
       "      <td>7.9250</td>\n",
       "      <td>NaN</td>\n",
       "      <td>S</td>\n",
       "    </tr>\n",
       "    <tr>\n",
       "      <th>3</th>\n",
       "      <td>4</td>\n",
       "      <td>1</td>\n",
       "      <td>1</td>\n",
       "      <td>Futrelle, Mrs. Jacques Heath (Lily May Peel)</td>\n",
       "      <td>female</td>\n",
       "      <td>35.0</td>\n",
       "      <td>1</td>\n",
       "      <td>0</td>\n",
       "      <td>113803</td>\n",
       "      <td>53.1000</td>\n",
       "      <td>C123</td>\n",
       "      <td>S</td>\n",
       "    </tr>\n",
       "    <tr>\n",
       "      <th>4</th>\n",
       "      <td>5</td>\n",
       "      <td>0</td>\n",
       "      <td>3</td>\n",
       "      <td>Allen, Mr. William Henry</td>\n",
       "      <td>male</td>\n",
       "      <td>35.0</td>\n",
       "      <td>0</td>\n",
       "      <td>0</td>\n",
       "      <td>373450</td>\n",
       "      <td>8.0500</td>\n",
       "      <td>NaN</td>\n",
       "      <td>S</td>\n",
       "    </tr>\n",
       "  </tbody>\n",
       "</table>\n",
       "</div>"
      ],
      "text/plain": [
       "   PassengerId  Survived  Pclass  \\\n",
       "0            1         0       3   \n",
       "1            2         1       1   \n",
       "2            3         1       3   \n",
       "3            4         1       1   \n",
       "4            5         0       3   \n",
       "\n",
       "                                                Name     Sex   Age  SibSp  \\\n",
       "0                            Braund, Mr. Owen Harris    male  22.0      1   \n",
       "1  Cumings, Mrs. John Bradley (Florence Briggs Th...  female  38.0      1   \n",
       "2                             Heikkinen, Miss. Laina  female  26.0      0   \n",
       "3       Futrelle, Mrs. Jacques Heath (Lily May Peel)  female  35.0      1   \n",
       "4                           Allen, Mr. William Henry    male  35.0      0   \n",
       "\n",
       "   Parch            Ticket     Fare Cabin Embarked  \n",
       "0      0         A/5 21171   7.2500   NaN        S  \n",
       "1      0          PC 17599  71.2833   C85        C  \n",
       "2      0  STON/O2. 3101282   7.9250   NaN        S  \n",
       "3      0            113803  53.1000  C123        S  \n",
       "4      0            373450   8.0500   NaN        S  "
      ]
     },
     "execution_count": 3,
     "metadata": {},
     "output_type": "execute_result"
    }
   ],
   "source": [
    "data.head()"
   ]
  },
  {
   "cell_type": "code",
   "execution_count": 4,
   "id": "1fc061c1",
   "metadata": {},
   "outputs": [
    {
     "data": {
      "text/plain": [
       "177"
      ]
     },
     "execution_count": 4,
     "metadata": {},
     "output_type": "execute_result"
    }
   ],
   "source": [
    "data.Age.isnull().sum()"
   ]
  },
  {
   "cell_type": "code",
   "execution_count": 5,
   "id": "3c83806b",
   "metadata": {},
   "outputs": [
    {
     "data": {
      "text/plain": [
       "0      22.0\n",
       "1      38.0\n",
       "2      26.0\n",
       "3      35.0\n",
       "4      35.0\n",
       "       ... \n",
       "886    27.0\n",
       "887    19.0\n",
       "888    28.0\n",
       "889    26.0\n",
       "890    32.0\n",
       "Name: Age, Length: 891, dtype: float64"
      ]
     },
     "execution_count": 5,
     "metadata": {},
     "output_type": "execute_result"
    }
   ],
   "source": [
    "data.Age.fillna(data.Age.median())"
   ]
  },
  {
   "cell_type": "code",
   "execution_count": 6,
   "id": "386f4f5d",
   "metadata": {},
   "outputs": [
    {
     "data": {
      "text/plain": [
       "<AxesSubplot:>"
      ]
     },
     "execution_count": 6,
     "metadata": {},
     "output_type": "execute_result"
    },
    {
     "data": {
      "image/png": "[encoded data removed]",
      "text/plain": [
       "<Figure size 720x504 with 1 Axes>"
      ]
     },
     "metadata": {
      "needs_background": "light"
     },
     "output_type": "display_data"
    }
   ],
   "source": [
    "plt.figure(figsize=(10,7))\n",
    "data.Age.plot(kind='box')"
   ]
  },
  {
   "cell_type": "code",
   "execution_count": 7,
   "id": "74575aeb",
   "metadata": {},
   "outputs": [
    {
     "name": "stderr",
     "output_type": "stream",
     "text": [
      "C:\\anaconda\\lib\\site-packages\\seaborn\\distributions.py:2619: FutureWarning: `distplot` is a deprecated function and will be removed in a future version. Please adapt your code to use either `displot` (a figure-level function with similar flexibility) or `histplot` (an axes-level function for histograms).\n",
      "  warnings.warn(msg, FutureWarning)\n"
     ]
    },
    {
     "data": {
      "text/plain": [
       "<AxesSubplot:xlabel='Age', ylabel='Density'>"
      ]
     },
     "execution_count": 7,
     "metadata": {},
     "output_type": "execute_result"
    },
    {
     "data": {
      "image/png": "[encoded data removed]",
      "text/plain": [
       "<Figure size 720x504 with 1 Axes>"
      ]
     },
     "metadata": {
      "needs_background": "light"
     },
     "output_type": "display_data"
    }
   ],
   "source": [
    "plt.figure(figsize=(10,7))\n",
    "sns.distplot(data.Age)"
   ]
  },
  {
   "cell_type": "code",
   "execution_count": 8,
   "id": "7de93a25",
   "metadata": {},
   "outputs": [
    {
     "data": {
      "text/plain": [
       "<AxesSubplot:xlabel='Age', ylabel='Count'>"
      ]
     },
     "execution_count": 8,
     "metadata": {},
     "output_type": "execute_result"
    },
    {
     "data": {
      "image/png": "[encoded data removed]",
      "text/plain": [
       "<Figure size 720x504 with 1 Axes>"
      ]
     },
     "metadata": {
      "needs_background": "light"
     },
     "output_type": "display_data"
    }
   ],
   "source": [
    "plt.figure(figsize=(10,7))\n",
    "sns.histplot(data.Age, kde=True)"
   ]
  },
  {
   "cell_type": "markdown",
   "id": "b293e570",
   "metadata": {},
   "source": [
    "# If The Data Is Normally Distributed We use this\n",
    "##### Assuming Age follows A Gaussian Distribution we will calculate the boundaries which differentiates the outliers"
   ]
  },
  {
   "cell_type": "code",
   "execution_count": 9,
   "id": "6934d963",
   "metadata": {},
   "outputs": [
    {
     "data": {
      "text/plain": [
       "29.69911764705882"
      ]
     },
     "execution_count": 9,
     "metadata": {},
     "output_type": "execute_result"
    }
   ],
   "source": [
    "mean = data.Age.mean()\n",
    "mean"
   ]
  },
  {
   "cell_type": "code",
   "execution_count": 10,
   "id": "86d157b7",
   "metadata": {},
   "outputs": [
    {
     "data": {
      "text/plain": [
       "14.526497332334044"
      ]
     },
     "execution_count": 10,
     "metadata": {},
     "output_type": "execute_result"
    }
   ],
   "source": [
    "std = data.Age.std()\n",
    "std"
   ]
  },
  {
   "cell_type": "code",
   "execution_count": 11,
   "id": "557d476a",
   "metadata": {},
   "outputs": [
    {
     "data": {
      "text/plain": [
       "73.27860964406095"
      ]
     },
     "execution_count": 11,
     "metadata": {},
     "output_type": "execute_result"
    }
   ],
   "source": [
    "upper_boundary = mean+3*std\n",
    "upper_boundary"
   ]
  },
  {
   "cell_type": "code",
   "execution_count": 12,
   "id": "8ce2c236",
   "metadata": {},
   "outputs": [
    {
     "data": {
      "text/plain": [
       "-13.88037434994331"
      ]
     },
     "execution_count": 12,
     "metadata": {},
     "output_type": "execute_result"
    }
   ],
   "source": [
    "lower_boundary = mean-3*std\n",
    "lower_boundary"
   ]
  },
  {
   "cell_type": "code",
   "execution_count": 13,
   "id": "d77db989",
   "metadata": {},
   "outputs": [
    {
     "name": "stdout",
     "output_type": "stream",
     "text": [
      "Upper boundary: 73.27860964406095 \n",
      "Lower boundary: -13.88037434994331\n"
     ]
    }
   ],
   "source": [
    "print('Upper boundary:', upper_boundary, '\\nLower boundary:', lower_boundary)"
   ]
  },
  {
   "cell_type": "markdown",
   "id": "13c75fc1",
   "metadata": {},
   "source": [
    "#### If Features Are Skewed We Use the below Technique"
   ]
  },
  {
   "cell_type": "code",
   "execution_count": 14,
   "id": "ae164cdf",
   "metadata": {},
   "outputs": [
    {
     "data": {
      "text/plain": [
       "Text(0.5, 1.0, 'distribution of Fare feature')"
      ]
     },
     "execution_count": 14,
     "metadata": {},
     "output_type": "execute_result"
    },
    {
     "data": {
      "image/png": "[encoded data removed]",
      "text/plain": [
       "<Figure size 720x504 with 1 Axes>"
      ]
     },
     "metadata": {
      "needs_background": "light"
     },
     "output_type": "display_data"
    }
   ],
   "source": [
    "plt.figure(figsize=(10,7))\n",
    "figure = data.Fare.plot.hist(bins=30)\n",
    "figure.set_xlabel('Fare', fontsize=15, fontweight='bold')\n",
    "figure.set_title('distribution of Fare feature', fontsize=20, fontweight='bold')\n"
   ]
  },
  {
   "cell_type": "code",
   "execution_count": 15,
   "id": "b4956554",
   "metadata": {},
   "outputs": [
    {
     "name": "stderr",
     "output_type": "stream",
     "text": [
      "C:\\anaconda\\lib\\site-packages\\seaborn\\_decorators.py:36: FutureWarning: Pass the following variable as a keyword arg: x. From version 0.12, the only valid positional argument will be `data`, and passing other arguments without an explicit keyword will result in an error or misinterpretation.\n",
      "  warnings.warn(\n"
     ]
    },
    {
     "data": {
      "text/plain": [
       "<AxesSubplot:xlabel='Fare'>"
      ]
     },
     "execution_count": 15,
     "metadata": {},
     "output_type": "execute_result"
    },
    {
     "data": {
      "image/png": "[encoded data removed]",
      "text/plain": [
       "<Figure size 720x504 with 1 Axes>"
      ]
     },
     "metadata": {
      "needs_background": "light"
     },
     "output_type": "display_data"
    }
   ],
   "source": [
    "plt.figure(figsize=(10,7))\n",
    "sns.boxplot(data['Fare'], orient='h')"
   ]
  },
  {
   "cell_type": "code",
   "execution_count": 16,
   "id": "eae56dfe",
   "metadata": {},
   "outputs": [
    {
     "data": {
      "text/plain": [
       "7.9104"
      ]
     },
     "execution_count": 16,
     "metadata": {},
     "output_type": "execute_result"
    }
   ],
   "source": [
    "data.Fare.quantile(0.25)"
   ]
  },
  {
   "cell_type": "code",
   "execution_count": 17,
   "id": "44cba92a",
   "metadata": {},
   "outputs": [
    {
     "data": {
      "text/plain": [
       "31.0"
      ]
     },
     "execution_count": 17,
     "metadata": {},
     "output_type": "execute_result"
    }
   ],
   "source": [
    "data.Fare.quantile(0.75)"
   ]
  },
  {
   "cell_type": "code",
   "execution_count": 18,
   "id": "4ea5442e",
   "metadata": {},
   "outputs": [
    {
     "data": {
      "text/plain": [
       "23.0896"
      ]
     },
     "execution_count": 18,
     "metadata": {},
     "output_type": "execute_result"
    }
   ],
   "source": [
    "iqr = data.Fare.quantile(0.75) - data.Fare.quantile(0.25)\n",
    "iqr"
   ]
  },
  {
   "cell_type": "code",
   "execution_count": 19,
   "id": "fdfada84",
   "metadata": {},
   "outputs": [
    {
     "data": {
      "text/plain": [
       "-26.724"
      ]
     },
     "execution_count": 19,
     "metadata": {},
     "output_type": "execute_result"
    }
   ],
   "source": [
    "lower_bridge = data.Fare.quantile(0.25) - 1.5*iqr\n",
    "lower_bridge"
   ]
  },
  {
   "cell_type": "code",
   "execution_count": 20,
   "id": "38a0bea0",
   "metadata": {},
   "outputs": [
    {
     "data": {
      "text/plain": [
       "65.6344"
      ]
     },
     "execution_count": 20,
     "metadata": {},
     "output_type": "execute_result"
    }
   ],
   "source": [
    "upper_bridge = data.Fare.quantile(0.75) + 1.5*iqr\n",
    "upper_bridge"
   ]
  },
  {
   "cell_type": "markdown",
   "id": "c541c453",
   "metadata": {},
   "source": [
    "# to find out the extreme outliers"
   ]
  },
  {
   "cell_type": "code",
   "execution_count": 21,
   "id": "5a48ca92",
   "metadata": {},
   "outputs": [
    {
     "data": {
      "text/plain": [
       "-61.358399999999996"
      ]
     },
     "execution_count": 21,
     "metadata": {},
     "output_type": "execute_result"
    }
   ],
   "source": [
    "lower_bridge_extreme = data.Fare.quantile(0.25) - 3*iqr\n",
    "lower_bridge_extreme"
   ]
  },
  {
   "cell_type": "code",
   "execution_count": 22,
   "id": "3d992560",
   "metadata": {},
   "outputs": [
    {
     "data": {
      "text/plain": [
       "100.2688"
      ]
     },
     "execution_count": 22,
     "metadata": {},
     "output_type": "execute_result"
    }
   ],
   "source": [
    "upper_bridge_extreme = data.Fare.quantile(0.75) + 3*iqr\n",
    "upper_bridge_extreme"
   ]
  },
  {
   "cell_type": "code",
   "execution_count": 23,
   "id": "8e5877f4",
   "metadata": {},
   "outputs": [
    {
     "name": "stdout",
     "output_type": "stream",
     "text": [
      "upper bridge: 65.6344 \n",
      "lower bridge: -26.724 \n",
      "extreme lower bridge: -61.358399999999996 \n",
      "extreme upper bridge: 100.2688\n"
     ]
    }
   ],
   "source": [
    "print('upper bridge:', upper_bridge, '\\nlower bridge:', lower_bridge, '\\nextreme lower bridge:', lower_bridge_extreme, '\\nextreme upper bridge:', upper_bridge_extreme)"
   ]
  },
  {
   "cell_type": "code",
   "execution_count": 24,
   "id": "54fc0f3e",
   "metadata": {},
   "outputs": [],
   "source": [
    "data.loc[data.Age.isnull(), 'Age'] = 73"
   ]
  },
  {
   "cell_type": "code",
   "execution_count": 25,
   "id": "dc7fc3d8",
   "metadata": {},
   "outputs": [
    {
     "data": {
      "text/plain": [
       "0"
      ]
     },
     "execution_count": 25,
     "metadata": {},
     "output_type": "execute_result"
    }
   ],
   "source": [
    "data.Age.isnull().sum()"
   ]
  },
  {
   "cell_type": "code",
   "execution_count": 26,
   "id": "c5138416",
   "metadata": {},
   "outputs": [
    {
     "data": {
      "text/plain": [
       "512.3292"
      ]
     },
     "execution_count": 26,
     "metadata": {},
     "output_type": "execute_result"
    }
   ],
   "source": [
    "max(data.Fare)"
   ]
  },
  {
   "cell_type": "code",
   "execution_count": 27,
   "id": "73be67ee",
   "metadata": {},
   "outputs": [
    {
     "data": {
      "text/plain": [
       "0.0"
      ]
     },
     "execution_count": 27,
     "metadata": {},
     "output_type": "execute_result"
    }
   ],
   "source": [
    "min(data.Fare)"
   ]
  },
  {
   "cell_type": "code",
   "execution_count": 28,
   "id": "624cc416",
   "metadata": {},
   "outputs": [
    {
     "data": {
      "text/plain": [
       "0"
      ]
     },
     "execution_count": 28,
     "metadata": {},
     "output_type": "execute_result"
    }
   ],
   "source": [
    "data.Fare.isnull().sum()"
   ]
  },
  {
   "cell_type": "markdown",
   "id": "aa22b977",
   "metadata": {},
   "source": [
    "# outlier imputation of Age and Fare"
   ]
  },
  {
   "cell_type": "code",
   "execution_count": 29,
   "id": "fe18efff",
   "metadata": {},
   "outputs": [],
   "source": [
    "data.loc[data.Age>=74,'Age'] = 73"
   ]
  },
  {
   "cell_type": "code",
   "execution_count": 30,
   "id": "52b343ca",
   "metadata": {},
   "outputs": [],
   "source": [
    "data.loc[data.Fare>=100.2688, 'Fare'] = 100.2688"
   ]
  },
  {
   "cell_type": "code",
   "execution_count": 31,
   "id": "23969d4a",
   "metadata": {},
   "outputs": [],
   "source": [
    "data.loc[data.Fare<=-61.358399999999996, 'Fare'] = -61.358399999999996 "
   ]
  },
  {
   "cell_type": "code",
   "execution_count": 32,
   "id": "9ef6d6fa",
   "metadata": {},
   "outputs": [
    {
     "name": "stderr",
     "output_type": "stream",
     "text": [
      "C:\\anaconda\\lib\\site-packages\\seaborn\\_decorators.py:36: FutureWarning: Pass the following variable as a keyword arg: x. From version 0.12, the only valid positional argument will be `data`, and passing other arguments without an explicit keyword will result in an error or misinterpretation.\n",
      "  warnings.warn(\n"
     ]
    },
    {
     "data": {
      "text/plain": [
       "<AxesSubplot:xlabel='Fare'>"
      ]
     },
     "execution_count": 32,
     "metadata": {},
     "output_type": "execute_result"
    },
    {
     "data": {
      "image/png": "[encoded data removed]",
      "text/plain": [
       "<Figure size 432x288 with 1 Axes>"
      ]
     },
     "metadata": {
      "needs_background": "light"
     },
     "output_type": "display_data"
    }
   ],
   "source": [
    "sns.boxplot(data.Fare)"
   ]
  },
  {
   "cell_type": "code",
   "execution_count": 33,
   "id": "8e3eeb95",
   "metadata": {},
   "outputs": [
    {
     "data": {
      "image/png": "[encoded data removed]",
      "text/plain": [
       "<Figure size 720x504 with 1 Axes>"
      ]
     },
     "metadata": {
      "needs_background": "light"
     },
     "output_type": "display_data"
    }
   ],
   "source": [
    "figure = plt.figure(figsize=(10,7))\n",
    "figure = sns.histplot(data.Fare, kde=True)"
   ]
  },
  {
   "cell_type": "code",
   "execution_count": 34,
   "id": "fe661693",
   "metadata": {},
   "outputs": [
    {
     "data": {
      "text/plain": [
       "Age     0\n",
       "Fare    0\n",
       "dtype: int64"
      ]
     },
     "execution_count": 34,
     "metadata": {},
     "output_type": "execute_result"
    }
   ],
   "source": [
    "data[['Age', 'Fare']].isnull().sum()"
   ]
  },
  {
   "cell_type": "code",
   "execution_count": 35,
   "id": "7535ac41",
   "metadata": {},
   "outputs": [],
   "source": [
    "from sklearn.model_selection import train_test_split"
   ]
  },
  {
   "cell_type": "code",
   "execution_count": 36,
   "id": "30fb131c",
   "metadata": {},
   "outputs": [],
   "source": [
    "x_train, x_test, y_train, y_test = train_test_split(data[['Age', 'Fare']], data.Survived, test_size=0.20, random_state=30)"
   ]
  },
  {
   "cell_type": "code",
   "execution_count": 37,
   "id": "fe99e5df",
   "metadata": {},
   "outputs": [
    {
     "data": {
      "text/html": [
       "<div>\n",
       "<style scoped>\n",
       "    .dataframe tbody tr th:only-of-type {\n",
       "        vertical-align: middle;\n",
       "    }\n",
       "\n",
       "    .dataframe tbody tr th {\n",
       "        vertical-align: top;\n",
       "    }\n",
       "\n",
       "    .dataframe thead th {\n",
       "        text-align: right;\n",
       "    }\n",
       "</style>\n",
       "<table border=\"1\" class=\"dataframe\">\n",
       "  <thead>\n",
       "    <tr style=\"text-align: right;\">\n",
       "      <th></th>\n",
       "      <th>Age</th>\n",
       "      <th>Fare</th>\n",
       "    </tr>\n",
       "  </thead>\n",
       "  <tbody>\n",
       "    <tr>\n",
       "      <th>199</th>\n",
       "      <td>24.0</td>\n",
       "      <td>13.0000</td>\n",
       "    </tr>\n",
       "    <tr>\n",
       "      <th>703</th>\n",
       "      <td>25.0</td>\n",
       "      <td>7.7417</td>\n",
       "    </tr>\n",
       "    <tr>\n",
       "      <th>823</th>\n",
       "      <td>27.0</td>\n",
       "      <td>12.4750</td>\n",
       "    </tr>\n",
       "    <tr>\n",
       "      <th>236</th>\n",
       "      <td>44.0</td>\n",
       "      <td>26.0000</td>\n",
       "    </tr>\n",
       "    <tr>\n",
       "      <th>679</th>\n",
       "      <td>36.0</td>\n",
       "      <td>100.2688</td>\n",
       "    </tr>\n",
       "    <tr>\n",
       "      <th>...</th>\n",
       "      <td>...</td>\n",
       "      <td>...</td>\n",
       "    </tr>\n",
       "    <tr>\n",
       "      <th>140</th>\n",
       "      <td>73.0</td>\n",
       "      <td>15.2458</td>\n",
       "    </tr>\n",
       "    <tr>\n",
       "      <th>500</th>\n",
       "      <td>17.0</td>\n",
       "      <td>8.6625</td>\n",
       "    </tr>\n",
       "    <tr>\n",
       "      <th>813</th>\n",
       "      <td>6.0</td>\n",
       "      <td>31.2750</td>\n",
       "    </tr>\n",
       "    <tr>\n",
       "      <th>421</th>\n",
       "      <td>21.0</td>\n",
       "      <td>7.7333</td>\n",
       "    </tr>\n",
       "    <tr>\n",
       "      <th>805</th>\n",
       "      <td>31.0</td>\n",
       "      <td>7.7750</td>\n",
       "    </tr>\n",
       "  </tbody>\n",
       "</table>\n",
       "<p>712 rows × 2 columns</p>\n",
       "</div>"
      ],
      "text/plain": [
       "      Age      Fare\n",
       "199  24.0   13.0000\n",
       "703  25.0    7.7417\n",
       "823  27.0   12.4750\n",
       "236  44.0   26.0000\n",
       "679  36.0  100.2688\n",
       "..    ...       ...\n",
       "140  73.0   15.2458\n",
       "500  17.0    8.6625\n",
       "813   6.0   31.2750\n",
       "421  21.0    7.7333\n",
       "805  31.0    7.7750\n",
       "\n",
       "[712 rows x 2 columns]"
      ]
     },
     "execution_count": 37,
     "metadata": {},
     "output_type": "execute_result"
    }
   ],
   "source": [
    "x_train"
   ]
  },
  {
   "cell_type": "code",
   "execution_count": 38,
   "id": "a6cd07db",
   "metadata": {},
   "outputs": [
    {
     "data": {
      "text/html": [
       "<div>\n",
       "<style scoped>\n",
       "    .dataframe tbody tr th:only-of-type {\n",
       "        vertical-align: middle;\n",
       "    }\n",
       "\n",
       "    .dataframe tbody tr th {\n",
       "        vertical-align: top;\n",
       "    }\n",
       "\n",
       "    .dataframe thead th {\n",
       "        text-align: right;\n",
       "    }\n",
       "</style>\n",
       "<table border=\"1\" class=\"dataframe\">\n",
       "  <thead>\n",
       "    <tr style=\"text-align: right;\">\n",
       "      <th></th>\n",
       "      <th>Age</th>\n",
       "      <th>Fare</th>\n",
       "    </tr>\n",
       "  </thead>\n",
       "  <tbody>\n",
       "    <tr>\n",
       "      <th>417</th>\n",
       "      <td>18.0</td>\n",
       "      <td>13.0000</td>\n",
       "    </tr>\n",
       "    <tr>\n",
       "      <th>307</th>\n",
       "      <td>17.0</td>\n",
       "      <td>100.2688</td>\n",
       "    </tr>\n",
       "    <tr>\n",
       "      <th>87</th>\n",
       "      <td>73.0</td>\n",
       "      <td>8.0500</td>\n",
       "    </tr>\n",
       "    <tr>\n",
       "      <th>577</th>\n",
       "      <td>39.0</td>\n",
       "      <td>55.9000</td>\n",
       "    </tr>\n",
       "    <tr>\n",
       "      <th>684</th>\n",
       "      <td>60.0</td>\n",
       "      <td>39.0000</td>\n",
       "    </tr>\n",
       "    <tr>\n",
       "      <th>...</th>\n",
       "      <td>...</td>\n",
       "      <td>...</td>\n",
       "    </tr>\n",
       "    <tr>\n",
       "      <th>368</th>\n",
       "      <td>73.0</td>\n",
       "      <td>7.7500</td>\n",
       "    </tr>\n",
       "    <tr>\n",
       "      <th>851</th>\n",
       "      <td>73.0</td>\n",
       "      <td>7.7750</td>\n",
       "    </tr>\n",
       "    <tr>\n",
       "      <th>501</th>\n",
       "      <td>21.0</td>\n",
       "      <td>7.7500</td>\n",
       "    </tr>\n",
       "    <tr>\n",
       "      <th>520</th>\n",
       "      <td>30.0</td>\n",
       "      <td>93.5000</td>\n",
       "    </tr>\n",
       "    <tr>\n",
       "      <th>40</th>\n",
       "      <td>40.0</td>\n",
       "      <td>9.4750</td>\n",
       "    </tr>\n",
       "  </tbody>\n",
       "</table>\n",
       "<p>179 rows × 2 columns</p>\n",
       "</div>"
      ],
      "text/plain": [
       "      Age      Fare\n",
       "417  18.0   13.0000\n",
       "307  17.0  100.2688\n",
       "87   73.0    8.0500\n",
       "577  39.0   55.9000\n",
       "684  60.0   39.0000\n",
       "..    ...       ...\n",
       "368  73.0    7.7500\n",
       "851  73.0    7.7750\n",
       "501  21.0    7.7500\n",
       "520  30.0   93.5000\n",
       "40   40.0    9.4750\n",
       "\n",
       "[179 rows x 2 columns]"
      ]
     },
     "execution_count": 38,
     "metadata": {},
     "output_type": "execute_result"
    }
   ],
   "source": [
    "x_test"
   ]
  },
  {
   "cell_type": "code",
   "execution_count": 39,
   "id": "f557e91f",
   "metadata": {},
   "outputs": [],
   "source": [
    "from sklearn.linear_model import LogisticRegression"
   ]
  },
  {
   "cell_type": "code",
   "execution_count": 40,
   "id": "979f0dd9",
   "metadata": {},
   "outputs": [],
   "source": [
    "lor = LogisticRegression()"
   ]
  },
  {
   "cell_type": "code",
   "execution_count": 41,
   "id": "112a8886",
   "metadata": {},
   "outputs": [],
   "source": [
    "lor.fit(x_train, y_train)\n",
    "y_pred = lor.predict(x_test)\n",
    "y_pred1 = lor.predict_proba(x_test)"
   ]
  },
  {
   "cell_type": "code",
   "execution_count": 42,
   "id": "82ce3ea0",
   "metadata": {},
   "outputs": [],
   "source": [
    "from sklearn.metrics import accuracy_score, roc_auc_score"
   ]
  },
  {
   "cell_type": "code",
   "execution_count": 43,
   "id": "fa2403c1",
   "metadata": {},
   "outputs": [
    {
     "data": {
      "text/plain": [
       "0.6536312849162011"
      ]
     },
     "execution_count": 43,
     "metadata": {},
     "output_type": "execute_result"
    }
   ],
   "source": [
    "accuracy_score(y_test, y_pred)"
   ]
  },
  {
   "cell_type": "code",
   "execution_count": 44,
   "id": "95b7fc34",
   "metadata": {},
   "outputs": [
    {
     "data": {
      "text/plain": [
       "0.5971570161711006"
      ]
     },
     "execution_count": 44,
     "metadata": {},
     "output_type": "execute_result"
    }
   ],
   "source": [
    "roc_auc_score(y_test, y_pred)"
   ]
  },
  {
   "cell_type": "code",
   "execution_count": 45,
   "id": "2327eb23",
   "metadata": {},
   "outputs": [
    {
     "data": {
      "text/plain": [
       "array([0.34017934, 0.8328746 , 0.20152103, 0.55568103, 0.39234777,\n",
       "       0.28152707, 0.82532407, 0.30296753, 0.20027492, 0.20037854,\n",
       "       0.38322538, 0.33926322, 0.29861426, 0.30818331, 0.66011264,\n",
       "       0.29851969, 0.29710927, 0.20408316, 0.28244384, 0.30848301,\n",
       "       0.32347697, 0.28828306, 0.3658703 , 0.55871397, 0.5483091 ,\n",
       "       0.25737435, 0.39342842, 0.2984788 , 0.22971363, 0.28881422,\n",
       "       0.7270601 , 0.35814772, 0.19698022, 0.55340138, 0.20087981,\n",
       "       0.26978641, 0.33677262, 0.83138566, 0.28639896, 0.22952277,\n",
       "       0.35848366, 0.17007457, 0.20027492, 0.45486205, 0.31882941,\n",
       "       0.25569137, 0.46118029, 0.30212565, 0.37207456, 0.27821959,\n",
       "       0.74128404, 0.30727759, 0.28651977, 0.74636977, 0.45512549,\n",
       "       0.39149783, 0.20060333, 0.29861426, 0.39710646, 0.29836673,\n",
       "       0.84158817, 0.59768519, 0.52657565, 0.20152103, 0.20087981,\n",
       "       0.29321258, 0.53951771, 0.75335882, 0.37709186, 0.37566916,\n",
       "       0.30868047, 0.20087981, 0.32347697, 0.27682878, 0.31735317,\n",
       "       0.29734047, 0.20060333, 0.26957666, 0.35140367, 0.57778332,\n",
       "       0.28257778, 0.31070709, 0.35340934, 0.19944739, 0.35597146,\n",
       "       0.31664085, 0.39198783, 0.28526806, 0.20020572, 0.58355513,\n",
       "       0.55340138, 0.2324721 , 0.2676448 , 0.38083144, 0.30300288,\n",
       "       0.31898809, 0.17007457, 0.72834569, 0.38482478, 0.3134365 ,\n",
       "       0.46920445, 0.32597444, 0.39093475, 0.29089172, 0.30748824,\n",
       "       0.78712583, 0.30812812, 0.19821091, 0.29614014, 0.72232467,\n",
       "       0.46920445, 0.82222943, 0.27321762, 0.36244487, 0.51232992,\n",
       "       0.30296753, 0.28235798, 0.22952277, 0.6314792 , 0.55181726,\n",
       "       0.28585907, 0.50670286, 0.57050634, 0.39382438, 0.56396321,\n",
       "       0.34803685, 0.36978806, 0.37506251, 0.27665516, 0.2418952 ,\n",
       "       0.36250155, 0.31282245, 0.28966885, 0.27219128, 0.45340442,\n",
       "       0.2538159 , 0.27682878, 0.37695624, 0.27937611, 0.28207272,\n",
       "       0.70221526, 0.33152278, 0.28028861, 0.35213235, 0.20087981,\n",
       "       0.33636929, 0.32832071, 0.28093586, 0.30383023, 0.22746284,\n",
       "       0.42973816, 0.36445546, 0.29477623, 0.20027492, 0.40113246,\n",
       "       0.22934132, 0.75237525, 0.20027492, 0.20027492, 0.17007457,\n",
       "       0.30752389, 0.76298592, 0.31873684, 0.19821091, 0.8143052 ,\n",
       "       0.7780592 , 0.75925219, 0.55429828, 0.20081087, 0.40369569,\n",
       "       0.39093475, 0.44416526, 0.29851969, 0.26659569, 0.20027492,\n",
       "       0.20037854, 0.30357963, 0.78455943, 0.27126815])"
      ]
     },
     "execution_count": 45,
     "metadata": {},
     "output_type": "execute_result"
    }
   ],
   "source": [
    "y_pred1[:,1]"
   ]
  },
  {
   "cell_type": "code",
   "execution_count": 46,
   "id": "3c013a7a",
   "metadata": {},
   "outputs": [
    {
     "data": {
      "text/plain": [
       "0.7022039645279081"
      ]
     },
     "execution_count": 46,
     "metadata": {},
     "output_type": "execute_result"
    }
   ],
   "source": [
    "roc_auc_score(y_test,y_pred1[:,1])"
   ]
  },
  {
   "cell_type": "code",
   "execution_count": 47,
   "id": "08a4ff5b",
   "metadata": {},
   "outputs": [
    {
     "data": {
      "text/plain": [
       "0.2977960354720918"
      ]
     },
     "execution_count": 47,
     "metadata": {},
     "output_type": "execute_result"
    }
   ],
   "source": [
    "roc_auc_score(y_test,y_pred1[:,0])"
   ]
  },
  {
   "cell_type": "code",
   "execution_count": 48,
   "id": "ad65bd5d",
   "metadata": {},
   "outputs": [],
   "source": [
    "get_ipython().run_line_magic('matplotlib', 'inline')"
   ]
  },
  {
   "cell_type": "code",
   "execution_count": 49,
   "id": "07912b15",
   "metadata": {},
   "outputs": [],
   "source": [
    "dataset=[11,10,12,14,12,15,14,13,15,102,12,14,17,19,107, 10,13,12,14,12,108,12,11,14,13,15,10,15,12,10,14,13,15,10,5000,5001]"
   ]
  },
  {
   "cell_type": "markdown",
   "id": "2ff09e0b",
   "metadata": {},
   "source": [
    "# outlier detection"
   ]
  },
  {
   "cell_type": "code",
   "execution_count": 50,
   "id": "3ce19033",
   "metadata": {},
   "outputs": [],
   "source": [
    "outlier = []\n",
    "def outlier_detect(data):\n",
    "    mean = np.mean(data)\n",
    "    standard_deviation = np.std(data)\n",
    "    for i in dataset:\n",
    "        if i>=mean+3*standard_deviation:\n",
    "            outlier.append(i)\n",
    "    return outlier\n",
    "            \n",
    "    \n",
    "    "
   ]
  },
  {
   "cell_type": "code",
   "execution_count": 51,
   "id": "22df0857",
   "metadata": {},
   "outputs": [
    {
     "data": {
      "text/plain": [
       "[5000, 5001]"
      ]
     },
     "execution_count": 51,
     "metadata": {},
     "output_type": "execute_result"
    }
   ],
   "source": [
    "outlier_detect(dataset)"
   ]
  },
  {
   "cell_type": "code",
   "execution_count": 52,
   "id": "2b356c31",
   "metadata": {},
   "outputs": [],
   "source": [
    "outlier = []\n",
    "\n",
    "def outlier_def(data):\n",
    "    threshold = 3\n",
    "    mean = np.mean(data)\n",
    "    standard = np.std(data)\n",
    "    \n",
    "    for i in data:\n",
    "        z = (i - mean)/standard\n",
    "        if np.abs(z)>3:\n",
    "            outlier.append(z)\n",
    "            \n",
    "    return(z)\n",
    "    "
   ]
  },
  {
   "cell_type": "code",
   "execution_count": 53,
   "id": "d33891c6",
   "metadata": {},
   "outputs": [
    {
     "data": {
      "text/plain": [
       "4.122503332024873"
      ]
     },
     "execution_count": 53,
     "metadata": {},
     "output_type": "execute_result"
    }
   ],
   "source": [
    "outlier_def(dataset)"
   ]
  },
  {
   "cell_type": "code",
   "execution_count": 54,
   "id": "48813117",
   "metadata": {},
   "outputs": [],
   "source": [
    "sorted(dataset)\n",
    "lower, upper = np.percentile(dataset, [25,75])"
   ]
  },
  {
   "cell_type": "code",
   "execution_count": 55,
   "id": "9d3c42b8",
   "metadata": {},
   "outputs": [
    {
     "data": {
      "text/plain": [
       "15.0"
      ]
     },
     "execution_count": 55,
     "metadata": {},
     "output_type": "execute_result"
    }
   ],
   "source": [
    "upper"
   ]
  },
  {
   "cell_type": "code",
   "execution_count": 56,
   "id": "c78d5611",
   "metadata": {},
   "outputs": [
    {
     "data": {
      "text/plain": [
       "12.0"
      ]
     },
     "execution_count": 56,
     "metadata": {},
     "output_type": "execute_result"
    }
   ],
   "source": [
    "lower"
   ]
  },
  {
   "cell_type": "code",
   "execution_count": 57,
   "id": "dff28817",
   "metadata": {},
   "outputs": [],
   "source": [
    "from numpy.random import randn\n",
    "from numpy.random import seed\n",
    "\n",
    "data = randn(1000)"
   ]
  },
  {
   "cell_type": "code",
   "execution_count": 58,
   "id": "5054780f",
   "metadata": {},
   "outputs": [],
   "source": [
    "random_data = 5*data+50"
   ]
  },
  {
   "cell_type": "code",
   "execution_count": 59,
   "id": "69bee8c4",
   "metadata": {},
   "outputs": [
    {
     "data": {
      "text/plain": [
       "50.01902896542406"
      ]
     },
     "execution_count": 59,
     "metadata": {},
     "output_type": "execute_result"
    }
   ],
   "source": [
    "np.mean(random_data)"
   ]
  },
  {
   "cell_type": "code",
   "execution_count": 60,
   "id": "62e11073",
   "metadata": {},
   "outputs": [
    {
     "data": {
      "text/plain": [
       "4.979171540316503"
      ]
     },
     "execution_count": 60,
     "metadata": {},
     "output_type": "execute_result"
    }
   ],
   "source": [
    "np.std(random_data)"
   ]
  },
  {
   "cell_type": "code",
   "execution_count": 61,
   "id": "350e6161",
   "metadata": {},
   "outputs": [],
   "source": [
    "upper = np.mean(random_data)+3*np.std(random_data)"
   ]
  },
  {
   "cell_type": "code",
   "execution_count": 62,
   "id": "9244bb34",
   "metadata": {},
   "outputs": [],
   "source": [
    "lower = np.mean(random_data)-3*np.std(random_data)"
   ]
  },
  {
   "cell_type": "code",
   "execution_count": 63,
   "id": "77663bcf",
   "metadata": {},
   "outputs": [
    {
     "data": {
      "text/plain": [
       "4"
      ]
     },
     "execution_count": 63,
     "metadata": {},
     "output_type": "execute_result"
    }
   ],
   "source": [
    "outliers = [x for x in random_data if x>upper or x<lower]\n",
    "len(outliers)"
   ]
  },
  {
   "cell_type": "code",
   "execution_count": 64,
   "id": "35e2b98f",
   "metadata": {},
   "outputs": [
    {
     "name": "stdout",
     "output_type": "stream",
     "text": [
      "mean=50.049 stdv=4.994\n"
     ]
    }
   ],
   "source": [
    "# generate gaussian data\n",
    "from numpy.random import seed\n",
    "from numpy.random import randn\n",
    "from numpy import mean\n",
    "from numpy import std\n",
    "# seed the random number generator\n",
    "seed(1)\n",
    "# generate univariate observations\n",
    "data = 5 * randn(10000) + 50\n",
    "# summarize\n",
    "print('mean=%.3f stdv=%.3f' % (mean(data), std(data)))"
   ]
  },
  {
   "cell_type": "code",
   "execution_count": 65,
   "id": "da8a4140",
   "metadata": {},
   "outputs": [],
   "source": [
    "# calculate summary statistics\n",
    "data_mean, data_std = mean(data), std(data)\n",
    "# define outliers\n",
    "cut_off = data_std * 3\n",
    "lower, upper = data_mean - cut_off, data_mean + cut_off"
   ]
  },
  {
   "cell_type": "code",
   "execution_count": 66,
   "id": "26df5174",
   "metadata": {},
   "outputs": [
    {
     "name": "stdout",
     "output_type": "stream",
     "text": [
      "Identified outliers: 29\n"
     ]
    }
   ],
   "source": [
    "# identify outliers\n",
    "outliers = [x for x in data if x < lower or x > upper]\n",
    "print('Identified outliers: %d' % len(outliers))"
   ]
  },
  {
   "cell_type": "code",
   "execution_count": 67,
   "id": "c78796d6",
   "metadata": {},
   "outputs": [],
   "source": [
    "data = 5 * randn(10000) + 50"
   ]
  },
  {
   "cell_type": "code",
   "execution_count": 68,
   "id": "ed6edb41",
   "metadata": {},
   "outputs": [
    {
     "data": {
      "text/plain": [
       "array([49.38763047, 51.14084909, 48.23847435, ..., 62.04216899,\n",
       "       54.41392775, 49.50201845])"
      ]
     },
     "execution_count": 68,
     "metadata": {},
     "output_type": "execute_result"
    }
   ],
   "source": [
    "data"
   ]
  },
  {
   "cell_type": "code",
   "execution_count": 69,
   "id": "b2549724",
   "metadata": {},
   "outputs": [
    {
     "data": {
      "text/plain": [
       "50.04717706723551"
      ]
     },
     "execution_count": 69,
     "metadata": {},
     "output_type": "execute_result"
    }
   ],
   "source": [
    "mean = mean(data)\n",
    "mean"
   ]
  },
  {
   "cell_type": "code",
   "execution_count": 70,
   "id": "b76c38be",
   "metadata": {},
   "outputs": [
    {
     "data": {
      "text/plain": [
       "5.005946365868043"
      ]
     },
     "execution_count": 70,
     "metadata": {},
     "output_type": "execute_result"
    }
   ],
   "source": [
    "standard = std(data)\n",
    "standard"
   ]
  },
  {
   "cell_type": "code",
   "execution_count": 71,
   "id": "af7644f4",
   "metadata": {},
   "outputs": [
    {
     "data": {
      "text/plain": [
       "65.06501616483963"
      ]
     },
     "execution_count": 71,
     "metadata": {},
     "output_type": "execute_result"
    }
   ],
   "source": [
    "upper_limit = mean+3*standard\n",
    "upper_limit"
   ]
  },
  {
   "cell_type": "code",
   "execution_count": 72,
   "id": "0c157f72",
   "metadata": {},
   "outputs": [
    {
     "data": {
      "text/plain": [
       "35.02933796963138"
      ]
     },
     "execution_count": 72,
     "metadata": {},
     "output_type": "execute_result"
    }
   ],
   "source": [
    "lower_limit = mean-3*standard\n",
    "lower_limit"
   ]
  },
  {
   "cell_type": "code",
   "execution_count": 73,
   "id": "d3064a95",
   "metadata": {},
   "outputs": [],
   "source": [
    "outlier = []\n",
    "def out(data):\n",
    "    for i in data:\n",
    "        if i < lower_limit or i > upper_limit:\n",
    "            outlier.append(i)\n",
    "            \n",
    "    return outlier"
   ]
  },
  {
   "cell_type": "code",
   "execution_count": 74,
   "id": "041a3ee1",
   "metadata": {},
   "outputs": [
    {
     "data": {
      "text/plain": [
       "[33.589606018446915,\n",
       " 67.80306323836209,\n",
       " 34.132691813291274,\n",
       " 65.53374664286396,\n",
       " 65.72684481848727,\n",
       " 33.44578718897701,\n",
       " 34.51086724037783,\n",
       " 33.59836201472855,\n",
       " 65.13109247152178,\n",
       " 34.17394937661556,\n",
       " 34.43684168906787,\n",
       " 65.39803886537827,\n",
       " 70.84058838977548,\n",
       " 69.17190510455352,\n",
       " 34.853280110384304,\n",
       " 32.82037094997793,\n",
       " 33.70396965680177,\n",
       " 65.38539527110383,\n",
       " 66.13968060176973,\n",
       " 34.807787070206146,\n",
       " 33.97967774826937,\n",
       " 34.48917553152967,\n",
       " 66.92857577965574,\n",
       " 67.23478007894843,\n",
       " 34.86971671326636,\n",
       " 32.74298546872413]"
      ]
     },
     "execution_count": 74,
     "metadata": {},
     "output_type": "execute_result"
    }
   ],
   "source": [
    "out(data)"
   ]
  },
  {
   "cell_type": "code",
   "execution_count": 75,
   "id": "a852cc33",
   "metadata": {},
   "outputs": [],
   "source": [
    "from numpy import percentile\n",
    "from numpy import quantile"
   ]
  },
  {
   "cell_type": "code",
   "execution_count": 76,
   "id": "eb9762e1",
   "metadata": {},
   "outputs": [],
   "source": [
    "lower = percentile(data, 25)"
   ]
  },
  {
   "cell_type": "code",
   "execution_count": 77,
   "id": "73ca95e4",
   "metadata": {},
   "outputs": [
    {
     "data": {
      "text/plain": [
       "46.63852803347012"
      ]
     },
     "execution_count": 77,
     "metadata": {},
     "output_type": "execute_result"
    }
   ],
   "source": [
    "quantile(data, 0.25)"
   ]
  },
  {
   "cell_type": "code",
   "execution_count": 78,
   "id": "a73ab960",
   "metadata": {},
   "outputs": [],
   "source": [
    "upper = percentile(data, 75)"
   ]
  },
  {
   "cell_type": "code",
   "execution_count": 79,
   "id": "f52122aa",
   "metadata": {},
   "outputs": [
    {
     "data": {
      "text/plain": [
       "53.44341692795445"
      ]
     },
     "execution_count": 79,
     "metadata": {},
     "output_type": "execute_result"
    }
   ],
   "source": [
    "quantile(data, 0.75)"
   ]
  },
  {
   "cell_type": "code",
   "execution_count": 80,
   "id": "95bd517b",
   "metadata": {},
   "outputs": [
    {
     "data": {
      "text/plain": [
       "6.804888894484328"
      ]
     },
     "execution_count": 80,
     "metadata": {},
     "output_type": "execute_result"
    }
   ],
   "source": [
    "inter = upper - lower\n",
    "inter"
   ]
  },
  {
   "cell_type": "code",
   "execution_count": 81,
   "id": "24977061",
   "metadata": {},
   "outputs": [
    {
     "data": {
      "text/plain": [
       "36.43119469174363"
      ]
     },
     "execution_count": 81,
     "metadata": {},
     "output_type": "execute_result"
    }
   ],
   "source": [
    "lower - 1.5*inter"
   ]
  },
  {
   "cell_type": "code",
   "execution_count": 82,
   "id": "931c853c",
   "metadata": {},
   "outputs": [
    {
     "data": {
      "text/plain": [
       "43.23608358622796"
      ]
     },
     "execution_count": 82,
     "metadata": {},
     "output_type": "execute_result"
    }
   ],
   "source": [
    "upper - 1.5*inter"
   ]
  },
  {
   "cell_type": "code",
   "execution_count": 83,
   "id": "508641f7",
   "metadata": {},
   "outputs": [],
   "source": [
    "out = [x for x in data if x < lower - 1.5*inter or x > upper - 1.5*inter]"
   ]
  },
  {
   "cell_type": "code",
   "execution_count": 84,
   "id": "eaef9bd6",
   "metadata": {},
   "outputs": [
    {
     "data": {
      "text/plain": [
       "9164"
      ]
     },
     "execution_count": 84,
     "metadata": {},
     "output_type": "execute_result"
    }
   ],
   "source": [
    "len(out)"
   ]
  }
 ],
 "metadata": {
  "kernelspec": {
   "display_name": "Python 3 (ipykernel)",
   "language": "python",
   "name": "python3"
  },
  "language_info": {
   "codemirror_mode": {
    "name": "ipython",
    "version": 3
   },
   "file_extension": ".py",
   "mimetype": "text/x-python",
   "name": "python",
   "nbconvert_exporter": "python",
   "pygments_lexer": "ipython3",
   "version": "3.9.12"
  }
 },
 "nbformat": 4,
 "nbformat_minor": 5
}
